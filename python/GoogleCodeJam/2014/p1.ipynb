{
 "metadata": {
  "name": "",
  "signature": "sha256:685acd3c2ee50372a1173bfec9149da5f21ddf6863c5ba21a20ed7fcb07812af"
 },
 "nbformat": 3,
 "nbformat_minor": 0,
 "worksheets": [
  {
   "cells": [
    {
     "cell_type": "code",
     "collapsed": false,
     "input": [
      "from PlaYdata.util import tools\n",
      "import numpy as np"
     ],
     "language": "python",
     "metadata": {},
     "outputs": [],
     "prompt_number": 50
    },
    {
     "cell_type": "code",
     "collapsed": false,
     "input": [],
     "language": "python",
     "metadata": {},
     "outputs": [],
     "prompt_number": 28
    },
    {
     "cell_type": "code",
     "collapsed": false,
     "input": [
      "input_filename = \"p1_test.in\""
     ],
     "language": "python",
     "metadata": {},
     "outputs": [],
     "prompt_number": 29
    },
    {
     "cell_type": "code",
     "collapsed": false,
     "input": [
      "with open(input_filename,\"r\") as input_file:\n",
      "    input_file_read = input_file.read()"
     ],
     "language": "python",
     "metadata": {},
     "outputs": [],
     "prompt_number": 30
    },
    {
     "cell_type": "code",
     "collapsed": false,
     "input": [
      "input_file_lines = input_file_read.split(\"\\n\")"
     ],
     "language": "python",
     "metadata": {},
     "outputs": [],
     "prompt_number": 31
    },
    {
     "cell_type": "code",
     "collapsed": false,
     "input": [
      "input_file_lines"
     ],
     "language": "python",
     "metadata": {},
     "outputs": [
      {
       "metadata": {},
       "output_type": "pyout",
       "prompt_number": 57,
       "text": [
        "['3',\n",
        " '2',\n",
        " '1 2 3 4',\n",
        " '5 6 7 8',\n",
        " '9 10 11 12',\n",
        " '13 14 15 16',\n",
        " '3',\n",
        " '1 2 5 4',\n",
        " '3 11 6 15',\n",
        " '9 10 7 12',\n",
        " '13 14 8 16',\n",
        " '2',\n",
        " '1 2 3 4',\n",
        " '5 6 7 8',\n",
        " '9 10 11 12',\n",
        " '13 14 15 16',\n",
        " '2',\n",
        " '1 2 3 4',\n",
        " '5 6 7 8',\n",
        " '9 10 11 12',\n",
        " '13 14 15 16',\n",
        " '2',\n",
        " '1 2 3 4',\n",
        " '5 6 7 8',\n",
        " '9 10 11 12',\n",
        " '13 14 15 16',\n",
        " '3',\n",
        " '1 2 3 4',\n",
        " '5 6 7 8',\n",
        " '9 10 11 12',\n",
        " '13 14 15 16',\n",
        " '']"
       ]
      }
     ],
     "prompt_number": 57
    },
    {
     "cell_type": "code",
     "collapsed": false,
     "input": [
      "n_cases = int(input_file_lines[0])\n",
      "n_cases"
     ],
     "language": "python",
     "metadata": {},
     "outputs": [
      {
       "metadata": {},
       "output_type": "pyout",
       "prompt_number": 32,
       "text": [
        "3"
       ]
      }
     ],
     "prompt_number": 32
    },
    {
     "cell_type": "code",
     "collapsed": false,
     "input": [
      "case_seps = map(lambda x:10*x+1,range(n_cases+1))\n",
      "case_seps_idx = list(tools.ngram(case_seps,2))\n",
      "one_case_idx = case_seps_idx[2]\n"
     ],
     "language": "python",
     "metadata": {},
     "outputs": [],
     "prompt_number": 86
    },
    {
     "cell_type": "code",
     "collapsed": false,
     "input": [
      "one_case_data = input_file_lines[one_case_idx[0]:one_case_idx[1]]"
     ],
     "language": "python",
     "metadata": {},
     "outputs": [],
     "prompt_number": 87
    },
    {
     "cell_type": "code",
     "collapsed": false,
     "input": [
      "one_case_data"
     ],
     "language": "python",
     "metadata": {},
     "outputs": [
      {
       "metadata": {},
       "output_type": "pyout",
       "prompt_number": 88,
       "text": [
        "['2',\n",
        " '1 2 3 4',\n",
        " '5 6 7 8',\n",
        " '9 10 11 12',\n",
        " '13 14 15 16',\n",
        " '3',\n",
        " '1 2 3 4',\n",
        " '5 6 7 8',\n",
        " '9 10 11 12',\n",
        " '13 14 15 16']"
       ]
      }
     ],
     "prompt_number": 88
    },
    {
     "cell_type": "code",
     "collapsed": false,
     "input": [
      "first_select = int(one_case_data[0])\n",
      "second_select = int(one_case_data[5])\n",
      "\n",
      "print first_select, second_select"
     ],
     "language": "python",
     "metadata": {},
     "outputs": [
      {
       "output_type": "stream",
       "stream": "stdout",
       "text": [
        "2 3\n"
       ]
      }
     ],
     "prompt_number": 89
    },
    {
     "cell_type": "code",
     "collapsed": false,
     "input": [
      "first_select_row = np.array(map(lambda xx:xx.split(),one_case_data[1:5])[first_select-1])\n",
      "first_select_row"
     ],
     "language": "python",
     "metadata": {},
     "outputs": [
      {
       "metadata": {},
       "output_type": "pyout",
       "prompt_number": 90,
       "text": [
        "array(['5', '6', '7', '8'], \n",
        "      dtype='|S1')"
       ]
      }
     ],
     "prompt_number": 90
    },
    {
     "cell_type": "code",
     "collapsed": false,
     "input": [
      "second_select_row = np.array(map(lambda xx:xx.split(),one_case_data[6:10])[second_select-1])\n",
      "second_select_row"
     ],
     "language": "python",
     "metadata": {},
     "outputs": [
      {
       "metadata": {},
       "output_type": "pyout",
       "prompt_number": 91,
       "text": [
        "array(['9', '10', '11', '12'], \n",
        "      dtype='|S2')"
       ]
      }
     ],
     "prompt_number": 91
    },
    {
     "cell_type": "code",
     "collapsed": false,
     "input": [
      "inter_rows = np.intersect1d(first_select_row,second_select_row)\n",
      "inter_rows"
     ],
     "language": "python",
     "metadata": {},
     "outputs": [
      {
       "metadata": {},
       "output_type": "pyout",
       "prompt_number": 92,
       "text": [
        "array([], \n",
        "      dtype='|S2')"
       ]
      }
     ],
     "prompt_number": 92
    },
    {
     "cell_type": "code",
     "collapsed": false,
     "input": [
      "len(inter_rows)"
     ],
     "language": "python",
     "metadata": {},
     "outputs": [
      {
       "metadata": {},
       "output_type": "pyout",
       "prompt_number": 93,
       "text": [
        "0"
       ]
      }
     ],
     "prompt_number": 93
    },
    {
     "cell_type": "code",
     "collapsed": false,
     "input": [
      "if len(inter_rows) == 1:\n",
      "    print inter_rows[0]\n",
      "elif len(inter_rows) > 1:\n",
      "    print \"Bad magician!\"\n",
      "else:\n",
      "    print \"Volunteer cheated!\""
     ],
     "language": "python",
     "metadata": {},
     "outputs": [
      {
       "output_type": "stream",
       "stream": "stdout",
       "text": [
        "Volunteer cheated!\n"
       ]
      }
     ],
     "prompt_number": 95
    },
    {
     "cell_type": "code",
     "collapsed": false,
     "input": [],
     "language": "python",
     "metadata": {},
     "outputs": [],
     "prompt_number": 94
    },
    {
     "cell_type": "code",
     "collapsed": false,
     "input": [],
     "language": "python",
     "metadata": {},
     "outputs": []
    },
    {
     "cell_type": "code",
     "collapsed": false,
     "input": [],
     "language": "python",
     "metadata": {},
     "outputs": [],
     "prompt_number": 95
    },
    {
     "cell_type": "code",
     "collapsed": false,
     "input": [
      "from PlaYdata.util import tools\n",
      "import numpy as np\n",
      "import sys \n",
      "\n"
     ],
     "language": "python",
     "metadata": {},
     "outputs": [],
     "prompt_number": 101
    },
    {
     "cell_type": "code",
     "collapsed": false,
     "input": [
      "assert len(sys.argv) > 1\n",
      "input_filename = str(sys.argv[1])"
     ],
     "language": "python",
     "metadata": {},
     "outputs": []
    },
    {
     "cell_type": "code",
     "collapsed": false,
     "input": [],
     "language": "python",
     "metadata": {},
     "outputs": []
    },
    {
     "cell_type": "code",
     "collapsed": false,
     "input": [
      "with open(input_filename,\"r\") as input_file:\n",
      "    input_file_read = input_file.read()"
     ],
     "language": "python",
     "metadata": {},
     "outputs": [],
     "prompt_number": 99
    },
    {
     "cell_type": "code",
     "collapsed": false,
     "input": [
      "input_file_lines = input_file_read.split(\"\\n\")\n",
      "input_file_lines\n",
      "n_cases = int(input_file_lines[0])\n",
      "case_seps = map(lambda x:10*x+1,range(n_cases+1))\n",
      "case_seps_idx = list(tools.ngram(case_seps,2))\n",
      "\n",
      "i_case = 0 \n",
      "\n",
      "for one_case_idx in case_seps_idx:\n",
      "    i_case = i_case + 1\n",
      "    one_case_data = input_file_lines[one_case_idx[0]:one_case_idx[1]]\n",
      "    first_select = int(one_case_data[0])\n",
      "    second_select = int(one_case_data[5])\n",
      "    first_select_row = np.array(map(lambda xx:xx.split(),one_case_data[1:5])[first_select-1])\n",
      "    second_select_row = np.array(map(lambda xx:xx.split(),one_case_data[6:10])[second_select-1])\n",
      "    inter_rows = np.intersect1d(first_select_row,second_select_row)\n",
      "    if len(inter_rows) == 1:\n",
      "        print \"Case #%s: %s\" % (i_case,inter_rows[0])\n",
      "    elif len(inter_rows) > 1:\n",
      "        print \"Case #%s: %s\" % (i_case,\"Bad magician!\")\n",
      "    else:\n",
      "        print \"Case #%s: %s\" % (i_case,\"Volunteer cheated!\")\n",
      "    \n",
      "\n"
     ],
     "language": "python",
     "metadata": {},
     "outputs": [
      {
       "output_type": "stream",
       "stream": "stdout",
       "text": [
        "Case #1: 7\n",
        "Case #2: Bad magician!\n",
        "Case #3: Volunteer cheated!\n"
       ]
      }
     ],
     "prompt_number": 100
    },
    {
     "cell_type": "code",
     "collapsed": false,
     "input": [],
     "language": "python",
     "metadata": {},
     "outputs": []
    }
   ],
   "metadata": {}
  }
 ]
}