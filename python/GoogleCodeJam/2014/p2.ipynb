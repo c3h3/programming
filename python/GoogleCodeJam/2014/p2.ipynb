{
 "metadata": {
  "name": "",
  "signature": "sha256:acaa2cbf4023542b97706d69a9b3161c1076ded2b8e4ad4e5427cdce925b7688"
 },
 "nbformat": 3,
 "nbformat_minor": 0,
 "worksheets": [
  {
   "cells": [
    {
     "cell_type": "code",
     "collapsed": false,
     "input": [],
     "language": "python",
     "metadata": {},
     "outputs": [],
     "prompt_number": 0
    },
    {
     "cell_type": "code",
     "collapsed": false,
     "input": [],
     "language": "python",
     "metadata": {},
     "outputs": [],
     "prompt_number": 0
    },
    {
     "cell_type": "code",
     "collapsed": false,
     "input": [
      "def total_cost(F_cost, gen_speed, target_vol):\n",
      "    return F_cost + target_vol / gen_speed"
     ],
     "language": "python",
     "metadata": {},
     "outputs": [],
     "prompt_number": 56
    },
    {
     "cell_type": "code",
     "collapsed": false,
     "input": [
      "input_filename = \"p2_test.in\""
     ],
     "language": "python",
     "metadata": {},
     "outputs": [],
     "prompt_number": 1
    },
    {
     "cell_type": "code",
     "collapsed": false,
     "input": [
      "with open(input_filename,\"r\") as input_file:\n",
      "    input_file_read = input_file.read()"
     ],
     "language": "python",
     "metadata": {},
     "outputs": [],
     "prompt_number": 2
    },
    {
     "cell_type": "code",
     "collapsed": false,
     "input": [
      "input_file_lines = input_file_read.split(\"\\n\")"
     ],
     "language": "python",
     "metadata": {},
     "outputs": [
      {
       "ename": "NameError",
       "evalue": "name 'input_file_read' is not defined",
       "output_type": "pyerr",
       "traceback": [
        "\u001b[1;31m---------------------------------------------------------------------------\u001b[0m\n\u001b[1;31mNameError\u001b[0m                                 Traceback (most recent call last)",
        "\u001b[1;32m<ipython-input-1-3b1a5a92ab0e>\u001b[0m in \u001b[0;36m<module>\u001b[1;34m()\u001b[0m\n\u001b[1;32m----> 1\u001b[1;33m \u001b[0minput_file_lines\u001b[0m \u001b[1;33m=\u001b[0m \u001b[0minput_file_read\u001b[0m\u001b[1;33m.\u001b[0m\u001b[0msplit\u001b[0m\u001b[1;33m(\u001b[0m\u001b[1;34m\"\\n\"\u001b[0m\u001b[1;33m)\u001b[0m\u001b[1;33m\u001b[0m\u001b[0m\n\u001b[0m",
        "\u001b[1;31mNameError\u001b[0m: name 'input_file_read' is not defined"
       ]
      }
     ],
     "prompt_number": 1
    },
    {
     "cell_type": "code",
     "collapsed": false,
     "input": [
      "input_file_lines"
     ],
     "language": "python",
     "metadata": {},
     "outputs": [
      {
       "ename": "NameError",
       "evalue": "name 'input_file_lines' is not defined",
       "output_type": "pyerr",
       "traceback": [
        "\u001b[1;31m---------------------------------------------------------------------------\u001b[0m\n\u001b[1;31mNameError\u001b[0m                                 Traceback (most recent call last)",
        "\u001b[1;32m<ipython-input-2-fae8b48063b6>\u001b[0m in \u001b[0;36m<module>\u001b[1;34m()\u001b[0m\n\u001b[1;32m----> 1\u001b[1;33m \u001b[0minput_file_lines\u001b[0m\u001b[1;33m\u001b[0m\u001b[0m\n\u001b[0m",
        "\u001b[1;31mNameError\u001b[0m: name 'input_file_lines' is not defined"
       ]
      }
     ],
     "prompt_number": 2
    },
    {
     "cell_type": "code",
     "collapsed": false,
     "input": [
      "n_cases = int(input_file_lines[0])"
     ],
     "language": "python",
     "metadata": {},
     "outputs": [],
     "prompt_number": 5
    },
    {
     "cell_type": "code",
     "collapsed": false,
     "input": [
      "for i_case in range(n_cases):\n",
      "    C, F, X = tuple(map(float,input_file_lines[1:][i_case].split()))\n",
      "    F_cost = 0.0\n",
      "    gen_speed = 2.0\n",
      "    target_vol = X\n",
      "    new_F_cost = F_cost + C / gen_speed\n",
      "    new_gen_speed = gen_speed + F\n",
      "\n",
      "    while total_cost(new_F_cost, new_gen_speed, X) < total_cost(F_cost, gen_speed, X):\n",
      "    \n",
      "        #print \"total_cost(new_F_cost, new_gen_speed, X) = \",total_cost(new_F_cost, new_gen_speed, X)\n",
      "        #print \"total_cost(F_cost, gen_speed, X) = \",total_cost(F_cost, gen_speed, X)\n",
      "    \n",
      "        F_cost = new_F_cost\n",
      "        gen_speed = new_gen_speed\n",
      "        new_F_cost = F_cost + C / gen_speed\n",
      "        new_gen_speed = gen_speed + F\n",
      "        \n",
      "    \n",
      "    print \"Case #%s: %.7f\" % (i_case,total_cost(F_cost, gen_speed, X))\n",
      "    \n"
     ],
     "language": "python",
     "metadata": {},
     "outputs": [
      {
       "output_type": "stream",
       "stream": "stdout",
       "text": [
        "Case #0: 1.0000000\n",
        "Case #1: 39.1666667\n",
        "Case #2: 63.9680013\n",
        "Case #3: 526.1904762\n"
       ]
      }
     ],
     "prompt_number": 57
    },
    {
     "cell_type": "code",
     "collapsed": false,
     "input": [
      "C, F, X = tuple(map(float,input_file_lines[1:][3].split()))"
     ],
     "language": "python",
     "metadata": {},
     "outputs": [],
     "prompt_number": 48
    },
    {
     "cell_type": "code",
     "collapsed": false,
     "input": [
      "C, F, X"
     ],
     "language": "python",
     "metadata": {},
     "outputs": [
      {
       "metadata": {},
       "output_type": "pyout",
       "prompt_number": 49,
       "text": [
        "(500.0, 4.0, 2000.0)"
       ]
      }
     ],
     "prompt_number": 49
    },
    {
     "cell_type": "code",
     "collapsed": false,
     "input": [
      "def total_cost(F_cost, gen_speed, target_vol):\n",
      "    return F_cost + target_vol / gen_speed\n",
      "\n",
      "F_cost = 0.0\n",
      "gen_speed = 2.0\n",
      "target_vol = X"
     ],
     "language": "python",
     "metadata": {},
     "outputs": [],
     "prompt_number": 50
    },
    {
     "cell_type": "code",
     "collapsed": false,
     "input": [
      "total_cost(F_cost, gen_speed, X)"
     ],
     "language": "python",
     "metadata": {},
     "outputs": [
      {
       "metadata": {},
       "output_type": "pyout",
       "prompt_number": 51,
       "text": [
        "1000.0"
       ]
      }
     ],
     "prompt_number": 51
    },
    {
     "cell_type": "code",
     "collapsed": false,
     "input": [
      "new_F_cost = F_cost + C / gen_speed\n",
      "new_gen_speed = gen_speed + F\n",
      "\n",
      "while total_cost(new_F_cost, new_gen_speed, X) < total_cost(F_cost, gen_speed, X):\n",
      "    \n",
      "    print \"total_cost(new_F_cost, new_gen_speed, X) = \",total_cost(new_F_cost, new_gen_speed, X)\n",
      "    print \"total_cost(F_cost, gen_speed, X) = \",total_cost(F_cost, gen_speed, X)\n",
      "    \n",
      "    F_cost = new_F_cost\n",
      "    gen_speed = new_gen_speed\n",
      "    new_F_cost = F_cost + C / gen_speed\n",
      "    new_gen_speed = gen_speed + F\n",
      "    \n",
      "    "
     ],
     "language": "python",
     "metadata": {},
     "outputs": [
      {
       "output_type": "stream",
       "stream": "stdout",
       "text": [
        "total_cost(new_F_cost, new_gen_speed, X) =  583.333333333\n",
        "total_cost(F_cost, gen_speed, X) =  1000.0\n",
        "total_cost(new_F_cost, new_gen_speed, X) =  533.333333333\n",
        "total_cost(F_cost, gen_speed, X) =  583.333333333\n",
        "total_cost(new_F_cost, new_gen_speed, X) =  526.19047619\n",
        "total_cost(F_cost, gen_speed, X) =  533.333333333\n"
       ]
      }
     ],
     "prompt_number": 52
    },
    {
     "cell_type": "code",
     "collapsed": false,
     "input": [
      "\"Case #%s: %.7f\" % (i_case,total_cost(F_cost, gen_speed, X))"
     ],
     "language": "python",
     "metadata": {},
     "outputs": [
      {
       "metadata": {},
       "output_type": "pyout",
       "prompt_number": 55,
       "text": [
        "'Case #3: 526.1904762'"
       ]
      }
     ],
     "prompt_number": 55
    },
    {
     "cell_type": "code",
     "collapsed": false,
     "input": [
      "print F_cost\n",
      "print gen_speed"
     ],
     "language": "python",
     "metadata": {},
     "outputs": [
      {
       "output_type": "stream",
       "stream": "stdout",
       "text": [
        "22.5\n",
        "6.0\n"
       ]
      }
     ],
     "prompt_number": 32
    },
    {
     "cell_type": "code",
     "collapsed": false,
     "input": [],
     "language": "python",
     "metadata": {},
     "outputs": [],
     "prompt_number": 16
    },
    {
     "cell_type": "code",
     "collapsed": false,
     "input": [],
     "language": "python",
     "metadata": {},
     "outputs": []
    }
   ],
   "metadata": {}
  }
 ]
}