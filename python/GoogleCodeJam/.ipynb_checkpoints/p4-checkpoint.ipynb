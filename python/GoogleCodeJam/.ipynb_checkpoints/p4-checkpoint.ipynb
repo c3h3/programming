{
 "metadata": {
  "name": "",
  "signature": "sha256:f393789377c8bfc3315c49677ec70f7ee20308e5452a04846fb673e777f2b730"
 },
 "nbformat": 3,
 "nbformat_minor": 0,
 "worksheets": [
  {
   "cells": [
    {
     "cell_type": "code",
     "collapsed": false,
     "input": [],
     "language": "python",
     "metadata": {},
     "outputs": []
    },
    {
     "cell_type": "code",
     "collapsed": false,
     "input": [
      "import numpy as np\n",
      "from PlaYdata.util import tools"
     ],
     "language": "python",
     "metadata": {},
     "outputs": [],
     "prompt_number": 16
    },
    {
     "cell_type": "code",
     "collapsed": false,
     "input": [],
     "language": "python",
     "metadata": {},
     "outputs": [],
     "prompt_number": 16
    },
    {
     "cell_type": "code",
     "collapsed": false,
     "input": [
      "input_filename = \"p4_test.in\""
     ],
     "language": "python",
     "metadata": {},
     "outputs": [],
     "prompt_number": 17
    },
    {
     "cell_type": "code",
     "collapsed": false,
     "input": [
      "with open(input_filename,\"r\") as input_file:\n",
      "    input_file_read = input_file.read()"
     ],
     "language": "python",
     "metadata": {},
     "outputs": [],
     "prompt_number": 18
    },
    {
     "cell_type": "code",
     "collapsed": false,
     "input": [
      "input_file_lines = input_file_read.split(\"\\n\")"
     ],
     "language": "python",
     "metadata": {},
     "outputs": [],
     "prompt_number": 19
    },
    {
     "cell_type": "code",
     "collapsed": false,
     "input": [
      "input_file_lines"
     ],
     "language": "python",
     "metadata": {},
     "outputs": [
      {
       "metadata": {},
       "output_type": "pyout",
       "prompt_number": 20,
       "text": [
        "['4',\n",
        " '1',\n",
        " '0.5',\n",
        " '0.6',\n",
        " '2',\n",
        " '0.7 0.2',\n",
        " '0.8 0.3',\n",
        " '3',\n",
        " '0.5 0.1 0.9',\n",
        " '0.6 0.4 0.3',\n",
        " '9',\n",
        " '0.186 0.389 0.907 0.832 0.959 0.557 0.300 0.992 0.899',\n",
        " '0.916 0.728 0.271 0.520 0.700 0.521 0.215 0.341 0.458',\n",
        " '']"
       ]
      }
     ],
     "prompt_number": 20
    },
    {
     "cell_type": "code",
     "collapsed": false,
     "input": [
      "n_cases = int(input_file_lines[0])"
     ],
     "language": "python",
     "metadata": {},
     "outputs": [],
     "prompt_number": 21
    },
    {
     "cell_type": "code",
     "collapsed": false,
     "input": [
      "n_cases"
     ],
     "language": "python",
     "metadata": {},
     "outputs": [
      {
       "metadata": {},
       "output_type": "pyout",
       "prompt_number": 22,
       "text": [
        "4"
       ]
      }
     ],
     "prompt_number": 22
    },
    {
     "cell_type": "code",
     "collapsed": false,
     "input": [
      "case_seps = map(lambda x:3*x+1,range(n_cases+1))\n",
      "case_seps_idx = list(tools.ngram(case_seps,2))\n"
     ],
     "language": "python",
     "metadata": {},
     "outputs": [
      {
       "metadata": {},
       "output_type": "pyout",
       "prompt_number": 24,
       "text": [
        "[[1, 4], [4, 7], [7, 10], [10, 13]]"
       ]
      }
     ],
     "prompt_number": 24
    },
    {
     "cell_type": "code",
     "collapsed": false,
     "input": [
      "i_case = 3\n",
      "one_case_idx = case_seps_idx[i_case]\n",
      "one_case_data = input_file_lines[one_case_idx[0]:one_case_idx[1]]\n",
      "one_case_data"
     ],
     "language": "python",
     "metadata": {},
     "outputs": [
      {
       "metadata": {},
       "output_type": "pyout",
       "prompt_number": 200,
       "text": [
        "['9',\n",
        " '0.186 0.389 0.907 0.832 0.959 0.557 0.300 0.992 0.899',\n",
        " '0.916 0.728 0.271 0.520 0.700 0.521 0.215 0.341 0.458']"
       ]
      }
     ],
     "prompt_number": 200
    },
    {
     "cell_type": "code",
     "collapsed": false,
     "input": [
      "one_case_n_blocks = int(one_case_data[0])\n",
      "one_case_n_blocks"
     ],
     "language": "python",
     "metadata": {},
     "outputs": [
      {
       "metadata": {},
       "output_type": "pyout",
       "prompt_number": 201,
       "text": [
        "9"
       ]
      }
     ],
     "prompt_number": 201
    },
    {
     "cell_type": "code",
     "collapsed": false,
     "input": [
      "naomi_block = np.array(map(float,one_case_data[1].split()))\n",
      "naomi_block_ones = np.ones(naomi_block.shape)\n",
      "naomi_block,naomi_block_ones"
     ],
     "language": "python",
     "metadata": {},
     "outputs": [
      {
       "metadata": {},
       "output_type": "pyout",
       "prompt_number": 202,
       "text": [
        "(array([ 0.186,  0.389,  0.907,  0.832,  0.959,  0.557,  0.3  ,  0.992,\n",
        "         0.899]), array([ 1.,  1.,  1.,  1.,  1.,  1.,  1.,  1.,  1.]))"
       ]
      }
     ],
     "prompt_number": 202
    },
    {
     "cell_type": "code",
     "collapsed": false,
     "input": [
      "ken_block = np.array(map(float,one_case_data[2].split()))\n",
      "ken_block_ones = np.ones(ken_block.shape)\n",
      "ken_block,ken_block_ones"
     ],
     "language": "python",
     "metadata": {},
     "outputs": [
      {
       "metadata": {},
       "output_type": "pyout",
       "prompt_number": 203,
       "text": [
        "(array([ 0.916,  0.728,  0.271,  0.52 ,  0.7  ,  0.521,  0.215,  0.341,\n",
        "         0.458]), array([ 1.,  1.,  1.,  1.,  1.,  1.,  1.,  1.,  1.]))"
       ]
      }
     ],
     "prompt_number": 203
    },
    {
     "cell_type": "code",
     "collapsed": false,
     "input": [
      "total_w = np.r_[naomi_block,ken_block]\n",
      "total_ones = np.r_[naomi_block_ones,-ken_block_ones]"
     ],
     "language": "python",
     "metadata": {},
     "outputs": [],
     "prompt_number": 204
    },
    {
     "cell_type": "code",
     "collapsed": false,
     "input": [
      "data = np.array(zip(total_w,total_ones), dtype=np.dtype([(\"w\",total_w.dtype), (\"o\",total_ones.dtype)]))\n",
      "data"
     ],
     "language": "python",
     "metadata": {},
     "outputs": [
      {
       "metadata": {},
       "output_type": "pyout",
       "prompt_number": 205,
       "text": [
        "array([(0.186, 1.0), (0.389, 1.0), (0.907, 1.0), (0.832, 1.0),\n",
        "       (0.959, 1.0), (0.557, 1.0), (0.3, 1.0), (0.992, 1.0), (0.899, 1.0),\n",
        "       (0.916, -1.0), (0.728, -1.0), (0.271, -1.0), (0.52, -1.0),\n",
        "       (0.7, -1.0), (0.521, -1.0), (0.215, -1.0), (0.341, -1.0),\n",
        "       (0.458, -1.0)], \n",
        "      dtype=[('w', '<f8'), ('o', '<f8')])"
       ]
      }
     ],
     "prompt_number": 205
    },
    {
     "cell_type": "code",
     "collapsed": false,
     "input": [
      "o_list = data[\"o\"][data[\"w\"].argsort()].tolist()\n",
      "o_list.reverse()\n",
      "o_list_array = np.array(o_list)\n",
      "o_list_array"
     ],
     "language": "python",
     "metadata": {},
     "outputs": [
      {
       "metadata": {},
       "output_type": "pyout",
       "prompt_number": 206,
       "text": [
        "array([ 1.,  1., -1.,  1.,  1.,  1., -1., -1.,  1., -1., -1., -1.,  1.,\n",
        "       -1.,  1., -1., -1.,  1.])"
       ]
      }
     ],
     "prompt_number": 206
    },
    {
     "cell_type": "code",
     "collapsed": false,
     "input": [
      "np.cumsum(o_list_array)"
     ],
     "language": "python",
     "metadata": {},
     "outputs": [
      {
       "metadata": {},
       "output_type": "pyout",
       "prompt_number": 207,
       "text": [
        "array([ 1.,  2.,  1.,  2.,  3.,  4.,  3.,  2.,  3.,  2.,  1.,  0.,  1.,\n",
        "        0.,  1.,  0., -1.,  0.])"
       ]
      }
     ],
     "prompt_number": 207
    },
    {
     "cell_type": "code",
     "collapsed": false,
     "input": [
      "first_ans = one_case_n_blocks - int(np.max(np.cumsum(-o_list_array)))\n",
      "first_ans"
     ],
     "language": "python",
     "metadata": {},
     "outputs": [
      {
       "metadata": {},
       "output_type": "pyout",
       "prompt_number": 208,
       "text": [
        "8"
       ]
      }
     ],
     "prompt_number": 208
    },
    {
     "cell_type": "code",
     "collapsed": false,
     "input": [
      "second_ans = int(np.max(np.cumsum(o_list_array)))\n",
      "second_ans"
     ],
     "language": "python",
     "metadata": {},
     "outputs": [
      {
       "metadata": {},
       "output_type": "pyout",
       "prompt_number": 209,
       "text": [
        "4"
       ]
      }
     ],
     "prompt_number": 209
    },
    {
     "cell_type": "code",
     "collapsed": false,
     "input": [],
     "language": "python",
     "metadata": {},
     "outputs": [],
     "prompt_number": 209
    },
    {
     "cell_type": "code",
     "collapsed": false,
     "input": [],
     "language": "python",
     "metadata": {},
     "outputs": [],
     "prompt_number": 209
    },
    {
     "cell_type": "code",
     "collapsed": false,
     "input": [],
     "language": "python",
     "metadata": {},
     "outputs": [],
     "prompt_number": 209
    },
    {
     "cell_type": "code",
     "collapsed": false,
     "input": [],
     "language": "python",
     "metadata": {},
     "outputs": [],
     "prompt_number": 209
    },
    {
     "cell_type": "code",
     "collapsed": false,
     "input": [],
     "language": "python",
     "metadata": {},
     "outputs": [],
     "prompt_number": 209
    },
    {
     "cell_type": "code",
     "collapsed": false,
     "input": [],
     "language": "python",
     "metadata": {},
     "outputs": []
    }
   ],
   "metadata": {}
  }
 ]
}