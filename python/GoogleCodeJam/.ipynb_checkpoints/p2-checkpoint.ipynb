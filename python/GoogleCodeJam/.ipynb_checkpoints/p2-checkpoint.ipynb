{
 "metadata": {
  "name": "",
  "signature": "sha256:f343bb60086aa9b3c481f7176d491e62fcc34aa7044abbe8e4aefd1c14ec100a"
 },
 "nbformat": 3,
 "nbformat_minor": 0,
 "worksheets": [
  {
   "cells": [
    {
     "cell_type": "code",
     "collapsed": false,
     "input": [],
     "language": "python",
     "metadata": {},
     "outputs": [],
     "prompt_number": 0
    },
    {
     "cell_type": "code",
     "collapsed": false,
     "input": [],
     "language": "python",
     "metadata": {},
     "outputs": [],
     "prompt_number": 0
    },
    {
     "cell_type": "code",
     "collapsed": false,
     "input": [
      "def total_cost(F_cost, gen_speed, target_vol):\n",
      "    return F_cost + target_vol / gen_speed"
     ],
     "language": "python",
     "metadata": {},
     "outputs": [],
     "prompt_number": 56
    },
    {
     "cell_type": "code",
     "collapsed": false,
     "input": [
      "input_filename = \"p2_test.in\""
     ],
     "language": "python",
     "metadata": {},
     "outputs": [],
     "prompt_number": 1
    },
    {
     "cell_type": "code",
     "collapsed": false,
     "input": [
      "with open(input_filename,\"r\") as input_file:\n",
      "    input_file_read = input_file.read()"
     ],
     "language": "python",
     "metadata": {},
     "outputs": [],
     "prompt_number": 2
    },
    {
     "cell_type": "code",
     "collapsed": false,
     "input": [
      "input_file_lines = input_file_read.split(\"\\n\")"
     ],
     "language": "python",
     "metadata": {},
     "outputs": [],
     "prompt_number": 3
    },
    {
     "cell_type": "code",
     "collapsed": false,
     "input": [
      "input_file_lines"
     ],
     "language": "python",
     "metadata": {},
     "outputs": [
      {
       "metadata": {},
       "output_type": "pyout",
       "prompt_number": 4,
       "text": [
        "['4',\n",
        " '30.0 1.0 2.0',\n",
        " '30.0 2.0 100.0',\n",
        " '30.50000 3.14159 1999.19990',\n",
        " '500.0 4.0 2000.0',\n",
        " '']"
       ]
      }
     ],
     "prompt_number": 4
    },
    {
     "cell_type": "code",
     "collapsed": false,
     "input": [
      "n_cases = int(input_file_lines[0])"
     ],
     "language": "python",
     "metadata": {},
     "outputs": [],
     "prompt_number": 5
    },
    {
     "cell_type": "code",
     "collapsed": false,
     "input": [
      "for i_case in range(n_cases):\n",
      "    C, F, X = tuple(map(float,input_file_lines[1:][i_case].split()))\n",
      "    F_cost = 0.0\n",
      "    gen_speed = 2.0\n",
      "    target_vol = X\n",
      "    new_F_cost = F_cost + C / gen_speed\n",
      "    new_gen_speed = gen_speed + F\n",
      "\n",
      "    while total_cost(new_F_cost, new_gen_speed, X) < total_cost(F_cost, gen_speed, X):\n",
      "    \n",
      "        #print \"total_cost(new_F_cost, new_gen_speed, X) = \",total_cost(new_F_cost, new_gen_speed, X)\n",
      "        #print \"total_cost(F_cost, gen_speed, X) = \",total_cost(F_cost, gen_speed, X)\n",
      "    \n",
      "        F_cost = new_F_cost\n",
      "        gen_speed = new_gen_speed\n",
      "        new_F_cost = F_cost + C / gen_speed\n",
      "        new_gen_speed = gen_speed + F\n",
      "        \n",
      "    \n",
      "    print \"Case #%s: %.7f\" % (i_case,total_cost(F_cost, gen_speed, X))\n",
      "    \n"
     ],
     "language": "python",
     "metadata": {},
     "outputs": [
      {
       "output_type": "stream",
       "stream": "stdout",
       "text": [
        "Case #0: 1.0000000\n",
        "Case #1: 39.1666667\n",
        "Case #2: 63.9680013\n",
        "Case #3: 526.1904762\n"
       ]
      }
     ],
     "prompt_number": 57
    },
    {
     "cell_type": "code",
     "collapsed": false,
     "input": [
      "C, F, X = tuple(map(float,input_file_lines[1:][3].split()))"
     ],
     "language": "python",
     "metadata": {},
     "outputs": [],
     "prompt_number": 48
    },
    {
     "cell_type": "code",
     "collapsed": false,
     "input": [
      "C, F, X"
     ],
     "language": "python",
     "metadata": {},
     "outputs": [
      {
       "metadata": {},
       "output_type": "pyout",
       "prompt_number": 49,
       "text": [
        "(500.0, 4.0, 2000.0)"
       ]
      }
     ],
     "prompt_number": 49
    },
    {
     "cell_type": "code",
     "collapsed": false,
     "input": [
      "def total_cost(F_cost, gen_speed, target_vol):\n",
      "    return F_cost + target_vol / gen_speed\n",
      "\n",
      "F_cost = 0.0\n",
      "gen_speed = 2.0\n",
      "target_vol = X"
     ],
     "language": "python",
     "metadata": {},
     "outputs": [],
     "prompt_number": 50
    },
    {
     "cell_type": "code",
     "collapsed": false,
     "input": [
      "total_cost(F_cost, gen_speed, X)"
     ],
     "language": "python",
     "metadata": {},
     "outputs": [
      {
       "metadata": {},
       "output_type": "pyout",
       "prompt_number": 51,
       "text": [
        "1000.0"
       ]
      }
     ],
     "prompt_number": 51
    },
    {
     "cell_type": "code",
     "collapsed": false,
     "input": [
      "new_F_cost = F_cost + C / gen_speed\n",
      "new_gen_speed = gen_speed + F\n",
      "\n",
      "while total_cost(new_F_cost, new_gen_speed, X) < total_cost(F_cost, gen_speed, X):\n",
      "    \n",
      "    print \"total_cost(new_F_cost, new_gen_speed, X) = \",total_cost(new_F_cost, new_gen_speed, X)\n",
      "    print \"total_cost(F_cost, gen_speed, X) = \",total_cost(F_cost, gen_speed, X)\n",
      "    \n",
      "    F_cost = new_F_cost\n",
      "    gen_speed = new_gen_speed\n",
      "    new_F_cost = F_cost + C / gen_speed\n",
      "    new_gen_speed = gen_speed + F\n",
      "    \n",
      "    "
     ],
     "language": "python",
     "metadata": {},
     "outputs": [
      {
       "output_type": "stream",
       "stream": "stdout",
       "text": [
        "total_cost(new_F_cost, new_gen_speed, X) =  583.333333333\n",
        "total_cost(F_cost, gen_speed, X) =  1000.0\n",
        "total_cost(new_F_cost, new_gen_speed, X) =  533.333333333\n",
        "total_cost(F_cost, gen_speed, X) =  583.333333333\n",
        "total_cost(new_F_cost, new_gen_speed, X) =  526.19047619\n",
        "total_cost(F_cost, gen_speed, X) =  533.333333333\n"
       ]
      }
     ],
     "prompt_number": 52
    },
    {
     "cell_type": "code",
     "collapsed": false,
     "input": [
      "\"Case #%s: %.7f\" % (i_case,total_cost(F_cost, gen_speed, X))"
     ],
     "language": "python",
     "metadata": {},
     "outputs": [
      {
       "metadata": {},
       "output_type": "pyout",
       "prompt_number": 55,
       "text": [
        "'Case #3: 526.1904762'"
       ]
      }
     ],
     "prompt_number": 55
    },
    {
     "cell_type": "code",
     "collapsed": false,
     "input": [
      "print F_cost\n",
      "print gen_speed"
     ],
     "language": "python",
     "metadata": {},
     "outputs": [
      {
       "output_type": "stream",
       "stream": "stdout",
       "text": [
        "22.5\n",
        "6.0\n"
       ]
      }
     ],
     "prompt_number": 32
    },
    {
     "cell_type": "code",
     "collapsed": false,
     "input": [],
     "language": "python",
     "metadata": {},
     "outputs": [],
     "prompt_number": 16
    },
    {
     "cell_type": "code",
     "collapsed": false,
     "input": [],
     "language": "python",
     "metadata": {},
     "outputs": []
    }
   ],
   "metadata": {}
  }
 ]
}