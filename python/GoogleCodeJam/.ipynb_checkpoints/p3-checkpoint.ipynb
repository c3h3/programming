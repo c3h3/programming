{
 "metadata": {
  "name": "",
  "signature": "sha256:42b9c3500f84fc3a7a79ffb3b4cd5d97b011f35c25ae81e1de415763deb04d67"
 },
 "nbformat": 3,
 "nbformat_minor": 0,
 "worksheets": [
  {
   "cells": [
    {
     "cell_type": "code",
     "collapsed": false,
     "input": [],
     "language": "python",
     "metadata": {},
     "outputs": [],
     "prompt_number": 0
    },
    {
     "cell_type": "code",
     "collapsed": false,
     "input": [
      "import numpy as np"
     ],
     "language": "python",
     "metadata": {},
     "outputs": [],
     "prompt_number": 10
    },
    {
     "cell_type": "code",
     "collapsed": false,
     "input": [],
     "language": "python",
     "metadata": {},
     "outputs": [],
     "prompt_number": 0
    },
    {
     "cell_type": "code",
     "collapsed": false,
     "input": [
      "input_filename = \"C-large.in\""
     ],
     "language": "python",
     "metadata": {},
     "outputs": [],
     "prompt_number": 460
    },
    {
     "cell_type": "code",
     "collapsed": false,
     "input": [
      "with open(input_filename,\"r\") as input_file:\n",
      "    input_file_read = input_file.read()"
     ],
     "language": "python",
     "metadata": {},
     "outputs": [],
     "prompt_number": 461
    },
    {
     "cell_type": "code",
     "collapsed": false,
     "input": [
      "input_file_lines = input_file_read.split(\"\\n\")"
     ],
     "language": "python",
     "metadata": {},
     "outputs": [],
     "prompt_number": 462
    },
    {
     "cell_type": "code",
     "collapsed": false,
     "input": [
      "input_file_lines"
     ],
     "language": "python",
     "metadata": {},
     "outputs": [
      {
       "metadata": {},
       "output_type": "pyout",
       "prompt_number": 463,
       "text": [
        "['134',\n",
        " '50 3 3',\n",
        " '50 1 49',\n",
        " '3 50 0',\n",
        " '3 50 1',\n",
        " '50 50 2498',\n",
        " '50 50 2452',\n",
        " '50 2 4',\n",
        " '3 50 5',\n",
        " '50 3 45',\n",
        " '50 50 49',\n",
        " '4 4 13',\n",
        " '2 50 46',\n",
        " '5 5 23',\n",
        " '50 50 2491',\n",
        " '50 2 44',\n",
        " '4 7 3',\n",
        " '1 50 47',\n",
        " '50 2 49',\n",
        " '50 50 3',\n",
        " '50 3 47',\n",
        " '1 50 3',\n",
        " '1 50 0',\n",
        " '1 50 49',\n",
        " '4 4 5',\n",
        " '3 3 3',\n",
        " '1 50 1',\n",
        " '3 50 44',\n",
        " '50 50 252',\n",
        " '3 50 43',\n",
        " '50 3 48',\n",
        " '50 3 42',\n",
        " '50 50 51',\n",
        " '50 50 52',\n",
        " '4 4 1',\n",
        " '3 50 49',\n",
        " '4 4 11',\n",
        " '4 4 9',\n",
        " '50 50 2493',\n",
        " '3 50 3',\n",
        " '50 50 2494',\n",
        " '50 50 2399',\n",
        " '2 2 1',\n",
        " '50 2 42',\n",
        " '50 3 4',\n",
        " '1 50 2',\n",
        " '4 4 2',\n",
        " '3 3 5',\n",
        " '50 50 2490',\n",
        " '50 3 49',\n",
        " '2 50 47',\n",
        " '2 50 48',\n",
        " '50 50 2451',\n",
        " '3 3 1',\n",
        " '50 2 5',\n",
        " '3 50 48',\n",
        " '3 3 8',\n",
        " '50 2 48',\n",
        " '2 50 45',\n",
        " '3 1 1',\n",
        " '50 50 2499',\n",
        " '3 3 6',\n",
        " '1 50 48',\n",
        " '4 4 6',\n",
        " '50 2 2',\n",
        " '50 3 1',\n",
        " '4 4 8',\n",
        " '50 1 48',\n",
        " '4 4 12',\n",
        " '50 2 3',\n",
        " '50 50 2450',\n",
        " '3 50 47',\n",
        " '50 50 251',\n",
        " '4 4 3',\n",
        " '50 1 47',\n",
        " '2 50 2',\n",
        " '4 4 14',\n",
        " '3 3 0',\n",
        " '2 50 1',\n",
        " '50 50 2400',\n",
        " '2 50 49',\n",
        " '50 3 0',\n",
        " '50 50 2398',\n",
        " '2 50 42',\n",
        " '4 4 10',\n",
        " '3 50 42',\n",
        " '2 50 0',\n",
        " '50 2 46',\n",
        " '3 50 46',\n",
        " '3 3 7',\n",
        " '50 1 1',\n",
        " '10 10 82',\n",
        " '50 50 250',\n",
        " '50 50 2',\n",
        " '50 3 5',\n",
        " '50 3 2',\n",
        " '4 4 7',\n",
        " '50 2 47',\n",
        " '50 50 2449',\n",
        " '50 2 1',\n",
        " '50 2 45',\n",
        " '50 2 43',\n",
        " '50 1 3',\n",
        " '2 50 5',\n",
        " '4 4 15',\n",
        " '50 50 249',\n",
        " '3 50 45',\n",
        " '2 50 4',\n",
        " '3 50 2',\n",
        " '50 50 2448',\n",
        " '50 50 2402',\n",
        " '4 4 0',\n",
        " '4 4 4',\n",
        " '50 50 2496',\n",
        " '3 50 4',\n",
        " '50 50 50',\n",
        " '50 50 2495',\n",
        " '50 50 2401',\n",
        " '50 50 2497',\n",
        " '2 50 44',\n",
        " '50 50 2492',\n",
        " '2 50 43',\n",
        " '50 2 0',\n",
        " '50 1 0',\n",
        " '3 3 2',\n",
        " '50 50 48',\n",
        " '50 50 0',\n",
        " '50 3 46',\n",
        " '50 50 1',\n",
        " '50 3 44',\n",
        " '50 3 43',\n",
        " '3 3 4',\n",
        " '50 50 248',\n",
        " '2 50 3',\n",
        " '50 1 2',\n",
        " '']"
       ]
      }
     ],
     "prompt_number": 463
    },
    {
     "cell_type": "code",
     "collapsed": false,
     "input": [
      "n_cases = int(input_file_lines[0])"
     ],
     "language": "python",
     "metadata": {},
     "outputs": [],
     "prompt_number": 5
    },
    {
     "cell_type": "code",
     "collapsed": false,
     "input": [
      "for i_case in range(n_cases)[0:6]:\n",
      "    nrow, ncol, nmile = tuple(map(int,input_file_lines[1:][i_case].split()))\n",
      "    print \"Case #%d:\" % (i_case+1,)\n",
      "    g1 = MileGame(nrow, ncol, nmile)\n",
      "    g1.search_solution()\n",
      "    g1.print_solution()\n",
      "\n",
      "    \n"
     ],
     "language": "python",
     "metadata": {},
     "outputs": [
      {
       "output_type": "stream",
       "stream": "stdout",
       "text": [
        "Case #1:\n",
        "c..\n",
        "...\n",
        "...\n",
        "*..\n",
        "*..\n",
        "*..\n",
        "...\n",
        "...\n",
        "...\n",
        "...\n",
        "...\n",
        "...\n",
        "...\n",
        "...\n",
        "...\n",
        "...\n",
        "...\n",
        "...\n",
        "...\n",
        "...\n",
        "...\n",
        "...\n",
        "...\n",
        "...\n",
        "...\n",
        "...\n",
        "...\n",
        "...\n",
        "...\n",
        "...\n",
        "...\n",
        "...\n",
        "...\n",
        "...\n",
        "...\n",
        "...\n",
        "...\n",
        "...\n",
        "...\n",
        "...\n",
        "...\n",
        "...\n",
        "...\n",
        "...\n",
        "...\n",
        "...\n",
        "...\n",
        "...\n",
        "...\n",
        "..."
       ]
      },
      {
       "output_type": "stream",
       "stream": "stdout",
       "text": [
        "\n",
        "Case #2:\n",
        "c\n",
        "*\n",
        "*\n",
        "*\n",
        "*\n",
        "*\n",
        "*\n",
        "*\n",
        "*\n",
        "*\n",
        "*\n",
        "*\n",
        "*\n",
        "*\n",
        "*\n",
        "*\n",
        "*\n",
        "*\n",
        "*\n",
        "*\n",
        "*\n",
        "*\n",
        "*\n",
        "*\n",
        "*\n",
        "*\n",
        "*\n",
        "*\n",
        "*\n",
        "*\n",
        "*\n",
        "*\n",
        "*\n",
        "*\n",
        "*\n",
        "*\n",
        "*\n",
        "*\n",
        "*\n",
        "*\n",
        "*\n",
        "*\n",
        "*\n",
        "*\n",
        "*\n",
        "*\n",
        "*\n",
        "*\n",
        "*\n",
        "*\n",
        "Case #3:\n",
        "c.................................................\n",
        "..................................................\n",
        ".................................................."
       ]
      },
      {
       "output_type": "stream",
       "stream": "stdout",
       "text": [
        "\n",
        "Case #4:\n",
        "c..*..............................................\n",
        "..................................................\n",
        ".................................................."
       ]
      },
      {
       "output_type": "stream",
       "stream": "stdout",
       "text": [
        "\n",
        "Case #5:\n",
        "Impossible\n"
       ]
      }
     ],
     "prompt_number": 466
    },
    {
     "cell_type": "code",
     "collapsed": false,
     "input": [
      "i_case = 1\n",
      "nrow, ncol, nmile = tuple(map(int,input_file_lines[1:][i_case].split()))\n",
      "print \"nrow, ncol, nmile = \", nrow, ncol, nmile"
     ],
     "language": "python",
     "metadata": {},
     "outputs": [
      {
       "output_type": "stream",
       "stream": "stdout",
       "text": [
        "nrow, ncol, nmile =  3 1 1\n"
       ]
      }
     ],
     "prompt_number": 429
    },
    {
     "cell_type": "code",
     "collapsed": false,
     "input": [
      "def board2str(board_array):\n",
      "    return \" \".join(map(lambda one_row: \" \".join(one_row),board_array.astype(str)))\n",
      "\n",
      "def get_nonzero_points(board_array):\n",
      "    return zip(*np.nonzero(board_array))\n",
      "\n",
      "def how_many_nonzeros(board_array):\n",
      "    return len(get_nonzero_points(board_array))\n",
      "\n",
      "def boundary_checker(board_array, nbhd_slice):\n",
      "    sub_board = board_array[nbhd_slice]\n",
      "    return len(get_nonzero_points(sub_board)) != reduce(lambda x,y:x*y,sub_board.shape)\n",
      "\n",
      "def get_boundary_points(board_array):\n",
      "    nonzero_points = get_nonzero_points(board_array)\n",
      "    nonzero_points_nbhd_slices = map(get_nbhd_slice,nonzero_points)\n",
      "    return [xx[0] for xx in zip(nonzero_points,nonzero_points_nbhd_slices) if boundary_checker(board_array, xx[1])]\n",
      "\n"
     ],
     "language": "python",
     "metadata": {},
     "outputs": [],
     "prompt_number": 430
    },
    {
     "cell_type": "code",
     "collapsed": false,
     "input": [
      "nrow, ncol, nmile"
     ],
     "language": "python",
     "metadata": {},
     "outputs": [
      {
       "metadata": {},
       "output_type": "pyout",
       "prompt_number": 431,
       "text": [
        "(3, 1, 1)"
       ]
      }
     ],
     "prompt_number": 431
    },
    {
     "cell_type": "code",
     "collapsed": false,
     "input": [
      "class MileGame(object):\n",
      "    def __init__(self, nrow, ncol, nmile):\n",
      "        self.nrow = nrow\n",
      "        self.ncol = ncol\n",
      "        self.nmile = nmile\n",
      "        self.game_size = self.nrow*self.ncol\n",
      "        self.n_spaces = self.game_size - self.nmile\n",
      "        \n",
      "        self.try_cases = []\n",
      "        self.tried_cases = []\n",
      "        self.solution_cases = []\n",
      "\n",
      "        \n",
      "        if self.n_spaces > 0:\n",
      "            self.add_try_case(board2str(np.zeros((nrow, ncol),dtype=int)))\n",
      "        \n",
      "    @property\n",
      "    def _has_try_cases(self):\n",
      "        return len(self.try_cases) > 0\n",
      "    \n",
      "    @property\n",
      "    def _has_solution(self):\n",
      "        return len(self.solution_cases) > 0\n",
      "    \n",
      "    @property\n",
      "    def _try_cases_to_boards(self):\n",
      "        return map(self.str2boarrd, self.try_cases)\n",
      "    \n",
      "    def get_nbhd_slice(self, point):\n",
      "        ii, jj = point[0],point[1]\n",
      "        return slice(max(0,ii-1), min(ii+2,self.nrow)),slice(max(0,jj-1), min(jj+2,self.ncol))\n",
      "            \n",
      "    def str2boarrd(self, board_str):\n",
      "        return np.array(board_str.split()).reshape((self.nrow, self.ncol)).astype(int)\n",
      "    \n",
      "    def add_try_case(self, board_str):\n",
      "        if (board_str in self.tried_cases) or (board_str in self.try_cases):\n",
      "            pass\n",
      "        else:\n",
      "            self.try_cases.append(board_str)\n",
      "            \n",
      "    def add_tried_case(self, board_str):\n",
      "        if board_str in self.tried_cases:\n",
      "            pass\n",
      "        else:\n",
      "            self.tried_cases.append(board_str)\n",
      "            \n",
      "    def gen_try_boards(self, board_array):\n",
      "        board_array_n_nonzeros = len(get_nonzero_points(board_array))\n",
      "        if board_array_n_nonzeros < self.n_spaces:\n",
      "            \n",
      "            if board_array_n_nonzeros < 1:\n",
      "                try_board = board_array.copy()\n",
      "                try_board[0,0] = 1\n",
      "                self.add_try_case(board2str(try_board))         \n",
      "            \n",
      "            else:\n",
      "                \n",
      "                board_array_bdry_pts = get_boundary_points(board_array)\n",
      "                board_array_bdry_nbhd_slices = map(self.get_nbhd_slice,board_array_bdry_pts)\n",
      "                \n",
      "                #print \"~~~~~~~~~~~~~~~~~~~~~~~~~\"\n",
      "                #print \"[in gen_try_boards]\"\n",
      "                #print \"[in case board_array_n_nonzeros >= 1]\"\n",
      "                #print \"board_array = \",board_array\n",
      "                #print \"board_array_bdry_pts = \",board_array_bdry_pts\n",
      "                #print \"board_array_bdry_nbhd_slices = \",board_array_bdry_nbhd_slices\n",
      "                \n",
      "                for one_brdy_nbhd_silce in board_array_bdry_nbhd_slices:\n",
      "                    #print \"one_brdy_nbhd_silce = \", one_brdy_nbhd_silce\n",
      "                    try_board_array = board_array.copy()\n",
      "                    try_board_array[one_brdy_nbhd_silce] = 1\n",
      "                    #print \"try_board_array = \",try_board_array\n",
      "                    self.add_try_case(board2str(try_board_array))\n",
      "                    \n",
      "                \n",
      "        \n",
      "        else:\n",
      "            return []\n",
      "\n",
      "        \n",
      "    def search_solution(self):\n",
      "        while self._has_try_cases and (not(self._has_solution)):\n",
      "            one_board_str = self.try_cases.pop()\n",
      "            one_board = self.str2boarrd(one_board_str)\n",
      "            #print \"one_board = \",one_board\n",
      "            if how_many_nonzeros(one_board) == self.n_spaces:\n",
      "                self.solution_cases.append(one_board_str)\n",
      "            else:\n",
      "                self.gen_try_boards(one_board)\n",
      "    \n",
      "            self.add_tried_case(one_board_str)\n",
      "\n",
      "    def print_solution(self):\n",
      "        if self._has_solution:\n",
      "            sol_array = np.array([\"*\",\".\"])[g1.str2boarrd(g1.solution_cases[0])].copy()\n",
      "            sol_array[0,0] = \"c\"\n",
      "            print \"\\n\".join(map(lambda one_row:\"\".join(one_row),sol_array.tolist()))\n",
      "        else:\n",
      "            print \"Impossible\"\n",
      "    \n",
      "        \n",
      "        \n",
      "        \n",
      "        \n",
      "        "
     ],
     "language": "python",
     "metadata": {},
     "outputs": [],
     "prompt_number": 447
    },
    {
     "cell_type": "code",
     "collapsed": false,
     "input": [
      "g1 = MileGame(nrow, ncol, nmile)\n",
      "g1.__dict__"
     ],
     "language": "python",
     "metadata": {},
     "outputs": [
      {
       "metadata": {},
       "output_type": "pyout",
       "prompt_number": 448,
       "text": [
        "{'game_size': 3,\n",
        " 'n_spaces': 2,\n",
        " 'ncol': 1,\n",
        " 'nmile': 1,\n",
        " 'nrow': 3,\n",
        " 'solution_cases': [],\n",
        " 'tried_cases': [],\n",
        " 'try_cases': ['0 0 0']}"
       ]
      }
     ],
     "prompt_number": 448
    },
    {
     "cell_type": "code",
     "collapsed": false,
     "input": [
      "#g1._has_solution"
     ],
     "language": "python",
     "metadata": {},
     "outputs": [],
     "prompt_number": 449
    },
    {
     "cell_type": "code",
     "collapsed": false,
     "input": [
      "g1.try_cases"
     ],
     "language": "python",
     "metadata": {},
     "outputs": [
      {
       "metadata": {},
       "output_type": "pyout",
       "prompt_number": 450,
       "text": [
        "['0 0 0']"
       ]
      }
     ],
     "prompt_number": 450
    },
    {
     "cell_type": "code",
     "collapsed": false,
     "input": [
      "g1 = MileGame(nrow, ncol, nmile)\n",
      "g1.search_solution()\n",
      "g1.print_solution()\n",
      "    \n",
      "    "
     ],
     "language": "python",
     "metadata": {},
     "outputs": [
      {
       "output_type": "stream",
       "stream": "stdout",
       "text": [
        "c\n",
        ".\n",
        "*\n"
       ]
      }
     ],
     "prompt_number": 453
    },
    {
     "cell_type": "code",
     "collapsed": false,
     "input": [
      "print \"g1.solution_cases = \",g1.solution_cases,\n",
      "print \"g1.try_cases = \",g1.try_cases,\n",
      "print \"g1.tried_cases = \",g1.tried_cases,"
     ],
     "language": "python",
     "metadata": {},
     "outputs": [
      {
       "output_type": "stream",
       "stream": "stdout",
       "text": [
        "g1.solution_cases =  ['1 1 0'] g1.try_cases =  [] g1.tried_cases =  ['0 0 0', '1 0 0', '1 1 0']\n"
       ]
      }
     ],
     "prompt_number": 437
    },
    {
     "cell_type": "code",
     "collapsed": false,
     "input": [
      "print \"\\n\".join(map(lambda one_row:\"\".join(one_row),np.array([\"*\",\".\"])[g1.str2boarrd(g1.solution_cases[0])].tolist()))"
     ],
     "language": "python",
     "metadata": {},
     "outputs": [
      {
       "output_type": "stream",
       "stream": "stdout",
       "text": [
        ".\n",
        ".\n",
        "*\n"
       ]
      }
     ],
     "prompt_number": 445
    },
    {
     "cell_type": "code",
     "collapsed": false,
     "input": [
      "n_blocks = nrow*ncol\n",
      "n_blocks"
     ],
     "language": "python",
     "metadata": {},
     "outputs": [
      {
       "metadata": {},
       "output_type": "pyout",
       "prompt_number": 218,
       "text": [
        "3"
       ]
      }
     ],
     "prompt_number": 218
    },
    {
     "cell_type": "code",
     "collapsed": false,
     "input": [
      "n_spaces = n_blocks - nmile\n",
      "n_spaces"
     ],
     "language": "python",
     "metadata": {},
     "outputs": [
      {
       "metadata": {},
       "output_type": "pyout",
       "prompt_number": 219,
       "text": [
        "2"
       ]
      }
     ],
     "prompt_number": 219
    },
    {
     "cell_type": "code",
     "collapsed": false,
     "input": [
      "if n_spaces > 0:\n",
      "    pass\n",
      "else:\n",
      "    print \"Impossible\"\n",
      "    "
     ],
     "language": "python",
     "metadata": {},
     "outputs": [],
     "prompt_number": 233
    },
    {
     "cell_type": "code",
     "collapsed": false,
     "input": [
      "try_cases = []\n",
      "tried_cases = []\n",
      "solution_cases = []\n",
      "\n",
      "\n"
     ],
     "language": "python",
     "metadata": {},
     "outputs": [],
     "prompt_number": 238
    },
    {
     "cell_type": "code",
     "collapsed": false,
     "input": [
      "\n",
      "\n",
      "\n",
      "\n",
      "\n",
      "\n",
      "\n",
      "\n",
      "    \n"
     ],
     "language": "python",
     "metadata": {},
     "outputs": [],
     "prompt_number": 221
    },
    {
     "cell_type": "code",
     "collapsed": false,
     "input": [
      "try_cases = []\n",
      "tried_cases = []\n",
      "solution_cases = []\n",
      "try_cases, tried_cases, solution_cases"
     ],
     "language": "python",
     "metadata": {},
     "outputs": [
      {
       "metadata": {},
       "output_type": "pyout",
       "prompt_number": 236,
       "text": [
        "([], [], [])"
       ]
      }
     ],
     "prompt_number": 236
    },
    {
     "cell_type": "code",
     "collapsed": false,
     "input": [],
     "language": "python",
     "metadata": {},
     "outputs": [],
     "prompt_number": 228
    },
    {
     "cell_type": "code",
     "collapsed": false,
     "input": [
      "board = np.zeros((nrow, ncol),dtype=int)\n",
      "\n",
      "board"
     ],
     "language": "python",
     "metadata": {},
     "outputs": [
      {
       "metadata": {},
       "output_type": "pyout",
       "prompt_number": 229,
       "text": [
        "array([[0],\n",
        "       [0],\n",
        "       [0]])"
       ]
      }
     ],
     "prompt_number": 229
    },
    {
     "cell_type": "code",
     "collapsed": false,
     "input": [
      "board_str = board2str(board)\n",
      "print board_str\n",
      "str2boarrd(board_str)"
     ],
     "language": "python",
     "metadata": {},
     "outputs": [
      {
       "output_type": "stream",
       "stream": "stdout",
       "text": [
        "0 0 0\n"
       ]
      },
      {
       "metadata": {},
       "output_type": "pyout",
       "prompt_number": 237,
       "text": [
        "array([[0],\n",
        "       [0],\n",
        "       [0]])"
       ]
      }
     ],
     "prompt_number": 237
    },
    {
     "cell_type": "code",
     "collapsed": false,
     "input": [
      "try_cases.extend(gen_try_boards(board))\n",
      "try_cases"
     ],
     "language": "python",
     "metadata": {},
     "outputs": [
      {
       "metadata": {},
       "output_type": "pyout",
       "prompt_number": 235,
       "text": [
        "[array([[1],\n",
        "        [0],\n",
        "        [0]])]"
       ]
      }
     ],
     "prompt_number": 235
    },
    {
     "cell_type": "code",
     "collapsed": false,
     "input": [],
     "language": "python",
     "metadata": {},
     "outputs": []
    },
    {
     "cell_type": "code",
     "collapsed": false,
     "input": [],
     "language": "python",
     "metadata": {},
     "outputs": [],
     "prompt_number": 230
    },
    {
     "cell_type": "code",
     "collapsed": false,
     "input": [
      "if len(get_nonzero_points(board)) < n_spaces:\n",
      "    print gen_try_boards(board)"
     ],
     "language": "python",
     "metadata": {},
     "outputs": [
      {
       "output_type": "stream",
       "stream": "stdout",
       "text": [
        "[array([[1],\n",
        "       [0],\n",
        "       [0]])]\n"
       ]
      }
     ],
     "prompt_number": 227
    },
    {
     "cell_type": "code",
     "collapsed": false,
     "input": [],
     "language": "python",
     "metadata": {},
     "outputs": []
    },
    {
     "cell_type": "code",
     "collapsed": false,
     "input": [],
     "language": "python",
     "metadata": {},
     "outputs": [],
     "prompt_number": 204
    },
    {
     "cell_type": "code",
     "collapsed": false,
     "input": [
      "if len(get_nonzero_points(board)) < 1:\n",
      "    board[0,0] = 1\n",
      "    board[1,0] = 1"
     ],
     "language": "python",
     "metadata": {},
     "outputs": [],
     "prompt_number": 205
    },
    {
     "cell_type": "code",
     "collapsed": false,
     "input": [],
     "language": "python",
     "metadata": {},
     "outputs": []
    },
    {
     "cell_type": "code",
     "collapsed": false,
     "input": [],
     "language": "python",
     "metadata": {},
     "outputs": []
    },
    {
     "cell_type": "code",
     "collapsed": false,
     "input": [
      "board\n"
     ],
     "language": "python",
     "metadata": {},
     "outputs": [
      {
       "metadata": {},
       "output_type": "pyout",
       "prompt_number": 206,
       "text": [
        "array([[1],\n",
        "       [1],\n",
        "       [0]])"
       ]
      }
     ],
     "prompt_number": 206
    },
    {
     "cell_type": "code",
     "collapsed": false,
     "input": [
      "get_boundary_points(board)"
     ],
     "language": "python",
     "metadata": {},
     "outputs": [
      {
       "metadata": {},
       "output_type": "pyout",
       "prompt_number": 210,
       "text": [
        "[(1, 0)]"
       ]
      }
     ],
     "prompt_number": 210
    },
    {
     "cell_type": "code",
     "collapsed": false,
     "input": [],
     "language": "python",
     "metadata": {},
     "outputs": []
    },
    {
     "cell_type": "code",
     "collapsed": false,
     "input": [],
     "language": "python",
     "metadata": {},
     "outputs": []
    },
    {
     "cell_type": "code",
     "collapsed": false,
     "input": [],
     "language": "python",
     "metadata": {},
     "outputs": []
    },
    {
     "cell_type": "code",
     "collapsed": false,
     "input": [
      "nonzero_points = get_nonzero_points(board)\n",
      "nonzero_points"
     ],
     "language": "python",
     "metadata": {},
     "outputs": [
      {
       "metadata": {},
       "output_type": "pyout",
       "prompt_number": 207,
       "text": [
        "[(0, 0), (1, 0)]"
       ]
      }
     ],
     "prompt_number": 207
    },
    {
     "cell_type": "code",
     "collapsed": false,
     "input": [
      "nonzero_points_nbhd_slices = map(get_nbhd_slice,nonzero_points)\n",
      "nonzero_points_nbhd_slices"
     ],
     "language": "python",
     "metadata": {},
     "outputs": [
      {
       "metadata": {},
       "output_type": "pyout",
       "prompt_number": 208,
       "text": [
        "[(slice(0, 2, None), slice(0, 1, None)),\n",
        " (slice(0, 3, None), slice(0, 1, None))]"
       ]
      }
     ],
     "prompt_number": 208
    },
    {
     "cell_type": "code",
     "collapsed": false,
     "input": [],
     "language": "python",
     "metadata": {},
     "outputs": [],
     "prompt_number": 208
    },
    {
     "cell_type": "code",
     "collapsed": false,
     "input": [
      "def get_boundary_points(board_array):\n",
      "    nonzero_points = get_nonzero_points(board_array)\n",
      "    nonzero_points_nbhd_slices = map(get_nbhd_slice,nonzero_points)\n",
      "    return [xx[0] for xx in zip(nonzero_points,nonzero_points_nbhd_slices) if boundary_checker(xx[1])]"
     ],
     "language": "python",
     "metadata": {},
     "outputs": [],
     "prompt_number": 209
    },
    {
     "cell_type": "code",
     "collapsed": false,
     "input": [],
     "language": "python",
     "metadata": {},
     "outputs": []
    },
    {
     "cell_type": "code",
     "collapsed": false,
     "input": [],
     "language": "python",
     "metadata": {},
     "outputs": []
    },
    {
     "cell_type": "code",
     "collapsed": false,
     "input": [],
     "language": "python",
     "metadata": {},
     "outputs": []
    },
    {
     "cell_type": "code",
     "collapsed": false,
     "input": [],
     "language": "python",
     "metadata": {},
     "outputs": [],
     "prompt_number": 169
    },
    {
     "cell_type": "code",
     "collapsed": false,
     "input": [
      "print board2str(board)\n",
      "str2boarrd(board_to_str(board))\n"
     ],
     "language": "python",
     "metadata": {},
     "outputs": [
      {
       "output_type": "stream",
       "stream": "stdout",
       "text": [
        "1 0 0\n"
       ]
      },
      {
       "metadata": {},
       "output_type": "pyout",
       "prompt_number": 170,
       "text": [
        "array([[1],\n",
        "       [0],\n",
        "       [0]])"
       ]
      }
     ],
     "prompt_number": 170
    },
    {
     "cell_type": "code",
     "collapsed": false,
     "input": [],
     "language": "python",
     "metadata": {},
     "outputs": [],
     "prompt_number": 16
    },
    {
     "cell_type": "code",
     "collapsed": false,
     "input": [
      "board[1,1] = 1\n",
      "board[1,3] = 1\n",
      "board[3,1] = 1\n",
      "board[0,0] = 1"
     ],
     "language": "python",
     "metadata": {},
     "outputs": [
      {
       "ename": "IndexError",
       "evalue": "index 1 is out of bounds for axis 1 with size 1",
       "output_type": "pyerr",
       "traceback": [
        "\u001b[1;31m---------------------------------------------------------------------------\u001b[0m\n\u001b[1;31mIndexError\u001b[0m                                Traceback (most recent call last)",
        "\u001b[1;32m<ipython-input-163-2bb759ebf66c>\u001b[0m in \u001b[0;36m<module>\u001b[1;34m()\u001b[0m\n\u001b[1;32m----> 1\u001b[1;33m \u001b[0mboard\u001b[0m\u001b[1;33m[\u001b[0m\u001b[1;36m1\u001b[0m\u001b[1;33m,\u001b[0m\u001b[1;36m1\u001b[0m\u001b[1;33m]\u001b[0m \u001b[1;33m=\u001b[0m \u001b[1;36m1\u001b[0m\u001b[1;33m\u001b[0m\u001b[0m\n\u001b[0m\u001b[0;32m      2\u001b[0m \u001b[0mboard\u001b[0m\u001b[1;33m[\u001b[0m\u001b[1;36m1\u001b[0m\u001b[1;33m,\u001b[0m\u001b[1;36m3\u001b[0m\u001b[1;33m]\u001b[0m \u001b[1;33m=\u001b[0m \u001b[1;36m1\u001b[0m\u001b[1;33m\u001b[0m\u001b[0m\n\u001b[0;32m      3\u001b[0m \u001b[0mboard\u001b[0m\u001b[1;33m[\u001b[0m\u001b[1;36m3\u001b[0m\u001b[1;33m,\u001b[0m\u001b[1;36m1\u001b[0m\u001b[1;33m]\u001b[0m \u001b[1;33m=\u001b[0m \u001b[1;36m1\u001b[0m\u001b[1;33m\u001b[0m\u001b[0m\n\u001b[0;32m      4\u001b[0m \u001b[0mboard\u001b[0m\u001b[1;33m[\u001b[0m\u001b[1;36m0\u001b[0m\u001b[1;33m,\u001b[0m\u001b[1;36m0\u001b[0m\u001b[1;33m]\u001b[0m \u001b[1;33m=\u001b[0m \u001b[1;36m1\u001b[0m\u001b[1;33m\u001b[0m\u001b[0m\n",
        "\u001b[1;31mIndexError\u001b[0m: index 1 is out of bounds for axis 1 with size 1"
       ]
      }
     ],
     "prompt_number": 163
    },
    {
     "cell_type": "code",
     "collapsed": false,
     "input": [
      "board_to_str(board)"
     ],
     "language": "python",
     "metadata": {},
     "outputs": [
      {
       "metadata": {},
       "output_type": "pyout",
       "prompt_number": 106,
       "text": [
        "'1000001010000000100000000'"
       ]
      }
     ],
     "prompt_number": 106
    },
    {
     "cell_type": "code",
     "collapsed": false,
     "input": [
      "board"
     ],
     "language": "python",
     "metadata": {},
     "outputs": [
      {
       "metadata": {},
       "output_type": "pyout",
       "prompt_number": 83,
       "text": [
        "array([[1, 1, 0, 0, 0],\n",
        "       [1, 1, 0, 1, 0],\n",
        "       [0, 0, 0, 0, 0],\n",
        "       [0, 1, 0, 0, 0],\n",
        "       [0, 0, 0, 0, 0]])"
       ]
      }
     ],
     "prompt_number": 83
    },
    {
     "cell_type": "code",
     "collapsed": true,
     "input": [
      "zip(*np.nonzero(board))"
     ],
     "language": "python",
     "metadata": {},
     "outputs": [
      {
       "metadata": {},
       "output_type": "pyout",
       "prompt_number": 62,
       "text": [
        "[(0, 0), (1, 1), (1, 3), (3, 1)]"
       ]
      }
     ],
     "prompt_number": 62
    },
    {
     "cell_type": "code",
     "collapsed": false,
     "input": [
      "np.where(board == 1.)"
     ],
     "language": "python",
     "metadata": {},
     "outputs": [
      {
       "metadata": {},
       "output_type": "pyout",
       "prompt_number": 63,
       "text": [
        "(array([0, 1, 1, 3]), array([0, 1, 3, 1]))"
       ]
      }
     ],
     "prompt_number": 63
    },
    {
     "cell_type": "code",
     "collapsed": false,
     "input": [
      "\n",
      "             "
     ],
     "language": "python",
     "metadata": {},
     "outputs": [],
     "prompt_number": 170
    },
    {
     "cell_type": "code",
     "collapsed": false,
     "input": [
      "test = map(get_nbhd,zip(*np.nonzero(board)))\n",
      "test"
     ],
     "language": "python",
     "metadata": {},
     "outputs": [
      {
       "metadata": {},
       "output_type": "pyout",
       "prompt_number": 82,
       "text": [
        "[(slice(0, 2, None), slice(0, 2, None)),\n",
        " (slice(0, 2, None), slice(0, 3, None)),\n",
        " (slice(0, 3, None), slice(0, 2, None)),\n",
        " (slice(0, 3, None), slice(0, 3, None)),\n",
        " (slice(0, 3, None), slice(2, 5, None)),\n",
        " (slice(2, 5, None), slice(0, 3, None))]"
       ]
      }
     ],
     "prompt_number": 82
    },
    {
     "cell_type": "code",
     "collapsed": false,
     "input": [
      "board[test] = 1"
     ],
     "language": "python",
     "metadata": {},
     "outputs": [],
     "prompt_number": 80
    },
    {
     "cell_type": "code",
     "collapsed": false,
     "input": [
      "board"
     ],
     "language": "python",
     "metadata": {},
     "outputs": [
      {
       "metadata": {},
       "output_type": "pyout",
       "prompt_number": 81,
       "text": [
        "array([[1, 1, 0, 0, 0],\n",
        "       [1, 1, 0, 1, 0],\n",
        "       [0, 0, 0, 0, 0],\n",
        "       [0, 1, 0, 0, 0],\n",
        "       [0, 0, 0, 0, 0]])"
       ]
      }
     ],
     "prompt_number": 81
    },
    {
     "cell_type": "code",
     "collapsed": false,
     "input": [],
     "language": "python",
     "metadata": {},
     "outputs": []
    }
   ],
   "metadata": {}
  }
 ]
}